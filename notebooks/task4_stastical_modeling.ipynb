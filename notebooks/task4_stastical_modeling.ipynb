{
 "cells": [
  {
   "cell_type": "code",
   "execution_count": 2,
   "metadata": {},
   "outputs": [
    {
     "name": "stderr",
     "output_type": "stream",
     "text": [
      "C:\\Users\\Robel\\AppData\\Local\\Temp\\ipykernel_6140\\3819030752.py:7: DtypeWarning: Columns (32,37) have mixed types. Specify dtype option on import or set low_memory=False.\n",
      "  df = pd.read_csv(file_path, delimiter='|')\n"
     ]
    },
    {
     "name": "stdout",
     "output_type": "stream",
     "text": [
      "Missing values in each column:\n",
      " UnderwrittenCoverID               0\n",
      "PolicyID                          0\n",
      "TransactionMonth                  0\n",
      "IsVATRegistered                   0\n",
      "Citizenship                       0\n",
      "LegalType                         0\n",
      "Title                             0\n",
      "Language                          0\n",
      "Bank                         145961\n",
      "AccountType                   40232\n",
      "MaritalStatus                  8259\n",
      "Gender                         9536\n",
      "Country                           0\n",
      "Province                          0\n",
      "PostalCode                        0\n",
      "MainCrestaZone                    0\n",
      "SubCrestaZone                     0\n",
      "ItemType                          0\n",
      "mmcode                          552\n",
      "VehicleType                     552\n",
      "RegistrationYear                  0\n",
      "make                            552\n",
      "Model                           552\n",
      "Cylinders                       552\n",
      "cubiccapacity                   552\n",
      "kilowatts                       552\n",
      "bodytype                        552\n",
      "NumberOfDoors                   552\n",
      "VehicleIntroDate                552\n",
      "CustomValueEstimate          779642\n",
      "AlarmImmobiliser                  0\n",
      "TrackingDevice                    0\n",
      "CapitalOutstanding                2\n",
      "NewVehicle                   153295\n",
      "WrittenOff                   641901\n",
      "Rebuilt                      641901\n",
      "Converted                    641901\n",
      "CrossBorder                  999400\n",
      "NumberOfVehiclesInFleet     1000098\n",
      "SumInsured                        0\n",
      "TermFrequency                     0\n",
      "CalculatedPremiumPerTerm          0\n",
      "ExcessSelected                    0\n",
      "CoverCategory                     0\n",
      "CoverType                         0\n",
      "CoverGroup                        0\n",
      "Section                           0\n",
      "Product                           0\n",
      "StatutoryClass                    0\n",
      "StatutoryRiskType                 0\n",
      "TotalPremium                      0\n",
      "TotalClaims                       0\n",
      "dtype: int64\n"
     ]
    }
   ],
   "source": [
    "# Import necessary libraries\n",
    "import pandas as pd\n",
    "from sklearn.impute import SimpleImputer\n",
    "\n",
    "# Load the data into a DataFrame\n",
    "file_path = 'D:/week3 data/MachineLearningRating_v3.txt'\n",
    "df = pd.read_csv(file_path, delimiter='|')\n",
    "\n",
    "# Check for missing values\n",
    "missing_values = df.isnull().sum()\n",
    "print(\"Missing values in each column:\\n\", missing_values)"
   ]
  },
  {
   "cell_type": "code",
   "execution_count": 2,
   "metadata": {},
   "outputs": [
    {
     "name": "stdout",
     "output_type": "stream",
     "text": [
      "Missing values after imputation:\n",
      " UnderwrittenCoverID               0\n",
      "PolicyID                          0\n",
      "TransactionMonth                  0\n",
      "IsVATRegistered                   0\n",
      "Citizenship                       0\n",
      "LegalType                         0\n",
      "Title                             0\n",
      "Language                          0\n",
      "Bank                              0\n",
      "AccountType                       0\n",
      "MaritalStatus                     0\n",
      "Gender                            0\n",
      "Country                           0\n",
      "Province                          0\n",
      "PostalCode                        0\n",
      "MainCrestaZone                    0\n",
      "SubCrestaZone                     0\n",
      "ItemType                          0\n",
      "mmcode                          552\n",
      "VehicleType                       0\n",
      "RegistrationYear                  0\n",
      "make                              0\n",
      "Model                             0\n",
      "Cylinders                       552\n",
      "cubiccapacity                   552\n",
      "kilowatts                       552\n",
      "bodytype                          0\n",
      "NumberOfDoors                   552\n",
      "VehicleIntroDate                  0\n",
      "CustomValueEstimate          779642\n",
      "AlarmImmobiliser                  0\n",
      "TrackingDevice                    0\n",
      "CapitalOutstanding                0\n",
      "NewVehicle                        0\n",
      "WrittenOff                        0\n",
      "Rebuilt                           0\n",
      "Converted                         0\n",
      "CrossBorder                       0\n",
      "NumberOfVehiclesInFleet     1000098\n",
      "SumInsured                        0\n",
      "TermFrequency                     0\n",
      "CalculatedPremiumPerTerm          0\n",
      "ExcessSelected                    0\n",
      "CoverCategory                     0\n",
      "CoverType                         0\n",
      "CoverGroup                        0\n",
      "Section                           0\n",
      "Product                           0\n",
      "StatutoryClass                    0\n",
      "StatutoryRiskType                 0\n",
      "TotalPremium                      0\n",
      "TotalClaims                       0\n",
      "dtype: int64\n"
     ]
    }
   ],
   "source": [
    "# Impute missing values with the mean for numerical columns\n",
    "imputer = SimpleImputer(strategy='mean')\n",
    "df[['TotalPremium', 'TotalClaims']] = imputer.fit_transform(df[['TotalPremium', 'TotalClaims']])\n",
    "\n",
    "# For categorical columns, we can impute with the most frequent value\n",
    "categorical_cols = df.select_dtypes(include=['object']).columns\n",
    "imputer_cat = SimpleImputer(strategy='most_frequent')\n",
    "df[categorical_cols] = imputer_cat.fit_transform(df[categorical_cols])\n",
    "\n",
    "# Verify that there are no missing values\n",
    "print(\"Missing values after imputation:\\n\", df.isnull().sum())"
   ]
  },
  {
   "cell_type": "code",
   "execution_count": 4,
   "metadata": {},
   "outputs": [],
   "source": [
    "# Example feature engineering\n",
    "# Create a feature representing the age of the vehicle\n",
    "df['VehicleAge'] = 2024 - df['RegistrationYear']\n",
    "\n",
    "# Create interaction terms if necessary\n",
    "df['PremiumPerClaim'] = df['TotalPremium'] / (df['TotalClaims'] + 1) "
   ]
  },
  {
   "cell_type": "code",
   "execution_count": 5,
   "metadata": {},
   "outputs": [
    {
     "name": "stdout",
     "output_type": "stream",
     "text": [
      "Data after encoding:\n",
      "    UnderwrittenCoverID  PolicyID  IsVATRegistered  PostalCode      mmcode  \\\n",
      "0               145249     12827             True        1459  44069150.0   \n",
      "1               145249     12827             True        1459  44069150.0   \n",
      "2               145249     12827             True        1459  44069150.0   \n",
      "3               145255     12827             True        1459  44069150.0   \n",
      "4               145255     12827             True        1459  44069150.0   \n",
      "\n",
      "   RegistrationYear  Cylinders  cubiccapacity  kilowatts  NumberOfDoors  ...  \\\n",
      "0              2004        6.0         2597.0      130.0            4.0  ...   \n",
      "1              2004        6.0         2597.0      130.0            4.0  ...   \n",
      "2              2004        6.0         2597.0      130.0            4.0  ...   \n",
      "3              2004        6.0         2597.0      130.0            4.0  ...   \n",
      "4              2004        6.0         2597.0      130.0            4.0  ...   \n",
      "\n",
      "   CoverGroup_Standalone passenger liability  CoverGroup_Third Party Only  \\\n",
      "0                                      False                        False   \n",
      "1                                      False                        False   \n",
      "2                                      False                        False   \n",
      "3                                      False                        False   \n",
      "4                                      False                        False   \n",
      "\n",
      "   CoverGroup_Trailer  Section_Motor Comprehensive  \\\n",
      "0               False                         True   \n",
      "1               False                         True   \n",
      "2               False                         True   \n",
      "3               False                         True   \n",
      "4               False                         True   \n",
      "\n",
      "   Section_Optional Extended Covers  Section_Standalone passenger liability  \\\n",
      "0                             False                                   False   \n",
      "1                             False                                   False   \n",
      "2                             False                                   False   \n",
      "3                             False                                   False   \n",
      "4                             False                                   False   \n",
      "\n",
      "   Section_Third party or third party, fire and theft only  \\\n",
      "0                                              False         \n",
      "1                                              False         \n",
      "2                                              False         \n",
      "3                                              False         \n",
      "4                                              False         \n",
      "\n",
      "   Product_Mobility Commercial Cover: Monthly  \\\n",
      "0                                       False   \n",
      "1                                       False   \n",
      "2                                       False   \n",
      "3                                       False   \n",
      "4                                       False   \n",
      "\n",
      "   Product_Mobility Metered Taxis: Monthly  \\\n",
      "0                                     True   \n",
      "1                                     True   \n",
      "2                                     True   \n",
      "3                                     True   \n",
      "4                                     True   \n",
      "\n",
      "   Product_Standalone Passenger Liability  \n",
      "0                                   False  \n",
      "1                                   False  \n",
      "2                                   False  \n",
      "3                                   False  \n",
      "4                                   False  \n",
      "\n",
      "[5 rows x 1876 columns]\n"
     ]
    }
   ],
   "source": [
    "from sklearn.preprocessing import OneHotEncoder\n",
    "\n",
    "# One-hot encode categorical columns\n",
    "categorical_cols = df.select_dtypes(include=['object']).columns\n",
    "df = pd.get_dummies(df, columns=categorical_cols, drop_first=True)\n",
    "\n",
    "# Verify the encoding\n",
    "print(\"Data after encoding:\\n\", df.head())\n"
   ]
  },
  {
   "cell_type": "code",
   "execution_count": 6,
   "metadata": {},
   "outputs": [
    {
     "name": "stdout",
     "output_type": "stream",
     "text": [
      "Training set size for TotalPremium: 700068\n",
      "Test set size for TotalPremium: 300030\n",
      "Training set size for TotalClaims: 700068\n",
      "Test set size for TotalClaims: 300030\n"
     ]
    }
   ],
   "source": [
    "from sklearn.model_selection import train_test_split\n",
    "\n",
    "# Define the target variables and features\n",
    "X = df.drop(['TotalPremium', 'TotalClaims'], axis=1)\n",
    "y_premium = df['TotalPremium']\n",
    "y_claims = df['TotalClaims']\n",
    "\n",
    "# Split the data\n",
    "X_train, X_test, y_train_premium, y_test_premium = train_test_split(X, y_premium, test_size=0.3, random_state=42)\n",
    "X_train_claims, X_test_claims, y_train_claims, y_test_claims = train_test_split(X, y_claims, test_size=0.3, random_state=42)\n",
    "\n",
    "# Verify the split\n",
    "print(\"Training set size for TotalPremium:\", X_train.shape[0])\n",
    "print(\"Test set size for TotalPremium:\", X_test.shape[0])\n",
    "print(\"Training set size for TotalClaims:\", X_train_claims.shape[0])\n",
    "print(\"Test set size for TotalClaims:\", X_test_claims.shape[0])"
   ]
  },
  {
   "cell_type": "code",
   "execution_count": 13,
   "metadata": {},
   "outputs": [],
   "source": [
    "# Select a smaller subset of features\n",
    "selected_features = ['cubiccapacity', 'kilowatts', 'CoverGroup_Third Party Only', 'VehicleAge']\n",
    "X_train_sampled_small = X_train_sampled[selected_features]\n",
    "X_test_small = X_test[selected_features]"
   ]
  },
  {
   "cell_type": "code",
   "execution_count": 15,
   "metadata": {},
   "outputs": [
    {
     "name": "stdout",
     "output_type": "stream",
     "text": [
      "Any NaN values in training set? False\n",
      "Any NaN values in test set? False\n"
     ]
    }
   ],
   "source": [
    "from sklearn.impute import SimpleImputer\n",
    "\n",
    "# Impute missing values for selected features\n",
    "imputer = SimpleImputer(strategy='mean')\n",
    "X_train_sampled_small_imputed = imputer.fit_transform(X_train_sampled_small)\n",
    "X_test_small_imputed = imputer.transform(X_test_small)\n",
    "\n",
    "# Verify that there are no more NaN values\n",
    "print(\"Any NaN values in training set?\", pd.DataFrame(X_train_sampled_small_imputed).isnull().sum().sum() > 0)\n",
    "print(\"Any NaN values in test set?\", pd.DataFrame(X_test_small_imputed).isnull().sum().sum() > 0)"
   ]
  },
  {
   "cell_type": "code",
   "execution_count": 16,
   "metadata": {},
   "outputs": [
    {
     "name": "stdout",
     "output_type": "stream",
     "text": [
      "Linear Regression - Mean Squared Error for TotalPremium: 52840.50429011844\n",
      "Linear Regression - R-squared for TotalPremium: 0.003671971947100894\n"
     ]
    }
   ],
   "source": [
    "from sklearn.linear_model import LinearRegression\n",
    "from sklearn.metrics import mean_squared_error, r2_score\n",
    "\n",
    "# Create and train the Linear Regression model\n",
    "model_premium = LinearRegression()\n",
    "model_premium.fit(X_train_sampled_small_imputed, y_train_premium_sampled)\n",
    "\n",
    "# Predict on the test set\n",
    "y_pred_premium = model_premium.predict(X_test_small_imputed)\n",
    "\n",
    "# Evaluate the model\n",
    "mse_premium = mean_squared_error(y_test_premium, y_pred_premium)\n",
    "r2_premium = r2_score(y_test_premium, y_pred_premium)\n",
    "\n",
    "print(\"Linear Regression - Mean Squared Error for TotalPremium:\", mse_premium)\n",
    "print(\"Linear Regression - R-squared for TotalPremium:\", r2_premium)"
   ]
  },
  {
   "cell_type": "code",
   "execution_count": 17,
   "metadata": {},
   "outputs": [
    {
     "name": "stdout",
     "output_type": "stream",
     "text": [
      "Random Forest - Mean Squared Error for TotalPremium: 52924.489260146576\n",
      "Random Forest - R-squared for TotalPremium: 0.0020884030410437404\n"
     ]
    }
   ],
   "source": [
    "from sklearn.ensemble import RandomForestRegressor\n",
    "\n",
    "# Create and train the Random Forest model\n",
    "forest_premium = RandomForestRegressor(random_state=42)\n",
    "forest_premium.fit(X_train_sampled_small_imputed, y_train_premium_sampled)\n",
    "\n",
    "# Predict on the test set\n",
    "y_pred_forest_premium = forest_premium.predict(X_test_small_imputed)\n",
    "\n",
    "# Evaluate the model\n",
    "mse_forest_premium = mean_squared_error(y_test_premium, y_pred_forest_premium)\n",
    "r2_forest_premium = r2_score(y_test_premium, y_pred_forest_premium)\n",
    "\n",
    "print(\"Random Forest - Mean Squared Error for TotalPremium:\", mse_forest_premium)\n",
    "print(\"Random Forest - R-squared for TotalPremium:\", r2_forest_premium)"
   ]
  },
  {
   "cell_type": "code",
   "execution_count": 4,
   "metadata": {},
   "outputs": [
    {
     "name": "stdout",
     "output_type": "stream",
     "text": [
      "['Comprehensive - Taxi' 'Credit Protection' 'Accidental Death'\n",
      " 'Basic Excess Waiver' 'Income Protector' 'Deposit Cover'\n",
      " 'Standalone passenger liability' 'Baggage/Luggage'\n",
      " 'Asset Value Preserver' 'Cash Takings' 'Third Party Only' 'Trailer'\n",
      " 'Fire,Theft and Third Party' 'Motor Comprehensive']\n"
     ]
    }
   ],
   "source": [
    "# Check unique values in the 'CoverGroup' column\n",
    "print(df['CoverGroup'].unique())"
   ]
  },
  {
   "cell_type": "code",
   "execution_count": 6,
   "metadata": {},
   "outputs": [
    {
     "name": "stderr",
     "output_type": "stream",
     "text": [
      "C:\\Users\\Robel\\AppData\\Local\\Temp\\ipykernel_1684\\3664123240.py:11: DtypeWarning: Columns (32,37) have mixed types. Specify dtype option on import or set low_memory=False.\n",
      "  df = pd.read_csv(file_path, delimiter='|')\n"
     ]
    },
    {
     "name": "stdout",
     "output_type": "stream",
     "text": [
      "XGBoost - Mean Squared Error for TotalPremium: 53060.82722134394\n",
      "XGBoost - R-squared for TotalPremium: -0.00048230164570028933\n"
     ]
    }
   ],
   "source": [
    "# Import Libraries\n",
    "import pandas as pd\n",
    "from sklearn.impute import SimpleImputer\n",
    "from sklearn.metrics import mean_squared_error, r2_score\n",
    "import xgboost as xgb\n",
    "\n",
    "# Path to the .txt file\n",
    "file_path = 'D:/week3 data/MachineLearningRating_v3.txt'\n",
    "\n",
    "# Load the data into a DataFrame with pipe delimiter\n",
    "df = pd.read_csv(file_path, delimiter='|')\n",
    "\n",
    "# Feature Engineering: Create a feature representing the age of the vehicle\n",
    "df['VehicleAge'] = 2024 - df['RegistrationYear']\n",
    "\n",
    "# Select relevant features\n",
    "selected_features = ['cubiccapacity', 'kilowatts', 'VehicleAge']\n",
    "\n",
    "# Prepare Training and Test Sets\n",
    "from sklearn.model_selection import train_test_split\n",
    "\n",
    "# Define target variable and features\n",
    "X = df[selected_features]\n",
    "y_premium = df['TotalPremium']\n",
    "\n",
    "# Split the data\n",
    "X_train, X_test, y_train_premium, y_test_premium = train_test_split(X, y_premium, test_size=0.3, random_state=42)\n",
    "\n",
    "# Sample a smaller subset to fit into memory\n",
    "X_train_sampled = X_train.sample(n=10000, random_state=42)\n",
    "y_train_premium_sampled = y_train_premium.loc[X_train_sampled.index]\n",
    "\n",
    "# Impute Missing Values for Selected Features\n",
    "imputer = SimpleImputer(strategy='mean')\n",
    "X_train_sampled_small_imputed = imputer.fit_transform(X_train_sampled)\n",
    "X_test_small_imputed = imputer.transform(X_test)\n",
    "\n",
    "# Train the XGBoost Model\n",
    "xgb_premium = xgb.XGBRegressor(random_state=42)\n",
    "xgb_premium.fit(X_train_sampled_small_imputed, y_train_premium_sampled)\n",
    "\n",
    "# Predict on the Test Set\n",
    "y_pred_xgb_premium = xgb_premium.predict(X_test_small_imputed)\n",
    "\n",
    "# Evaluate the Model\n",
    "mse_xgb_premium = mean_squared_error(y_test_premium, y_pred_xgb_premium)\n",
    "r2_xgb_premium = r2_score(y_test_premium, y_pred_xgb_premium)\n",
    "\n",
    "# Print Evaluation Metrics\n",
    "print(\"XGBoost - Mean Squared Error for TotalPremium:\", mse_xgb_premium)\n",
    "print(\"XGBoost - R-squared for TotalPremium:\", r2_xgb_premium)"
   ]
  },
  {
   "cell_type": "code",
   "execution_count": 4,
   "metadata": {},
   "outputs": [
    {
     "name": "stderr",
     "output_type": "stream",
     "text": [
      "C:\\Users\\Robel\\AppData\\Local\\Temp\\ipykernel_6140\\2137476701.py:13: DtypeWarning: Columns (32,37) have mixed types. Specify dtype option on import or set low_memory=False.\n",
      "  df = pd.read_csv(file_path, delimiter='|')\n"
     ]
    },
    {
     "name": "stdout",
     "output_type": "stream",
     "text": [
      "Linear Regression - Mean Squared Error for TotalPremium: 52840.50429011844\n",
      "Linear Regression - R-squared for TotalPremium: 0.003671971947100894\n",
      "Linear Regression - Mean Absolute Error for TotalPremium: 89.50769917508\n",
      "Random Forest - Mean Squared Error for TotalPremium: 52921.549984132864\n",
      "Random Forest - R-squared for TotalPremium: 0.0021438242205723546\n",
      "Random Forest - Mean Absolute Error for TotalPremium: 89.45853592342844\n",
      "XGBoost - Mean Squared Error for TotalPremium: 53060.82722134394\n",
      "XGBoost - R-squared for TotalPremium: -0.00048230164570028933\n",
      "XGBoost - Mean Absolute Error for TotalPremium: 89.39195801763736\n"
     ]
    }
   ],
   "source": [
    "# Import Libraries\n",
    "import pandas as pd\n",
    "from sklearn.impute import SimpleImputer\n",
    "from sklearn.metrics import mean_squared_error, r2_score, mean_absolute_error\n",
    "import xgboost as xgb\n",
    "from sklearn.linear_model import LinearRegression\n",
    "from sklearn.ensemble import RandomForestRegressor\n",
    "\n",
    "# Path to the .txt file\n",
    "file_path = 'D:/week3 data/MachineLearningRating_v3.txt'\n",
    "\n",
    "# Load the data into a DataFrame with pipe delimiter\n",
    "df = pd.read_csv(file_path, delimiter='|')\n",
    "\n",
    "# Feature Engineering: Create a feature representing the age of the vehicle\n",
    "df['VehicleAge'] = 2024 - df['RegistrationYear']\n",
    "\n",
    "# Select relevant features\n",
    "selected_features = ['cubiccapacity', 'kilowatts', 'VehicleAge']\n",
    "\n",
    "# Prepare Training and Test Sets\n",
    "from sklearn.model_selection import train_test_split\n",
    "\n",
    "# Define target variable and features\n",
    "X = df[selected_features]\n",
    "y_premium = df['TotalPremium']\n",
    "\n",
    "# Split the data\n",
    "X_train, X_test, y_train_premium, y_test_premium = train_test_split(X, y_premium, test_size=0.3, random_state=42)\n",
    "\n",
    "# Sample a smaller subset to fit into memory\n",
    "X_train_sampled = X_train.sample(n=10000, random_state=42)\n",
    "y_train_premium_sampled = y_train_premium.loc[X_train_sampled.index]\n",
    "\n",
    "# Impute Missing Values for Selected Features\n",
    "imputer = SimpleImputer(strategy='mean')\n",
    "X_train_sampled_small_imputed = imputer.fit_transform(X_train_sampled)\n",
    "X_test_small_imputed = imputer.transform(X_test)\n",
    "\n",
    "# Train and Predict with Linear Regression Model\n",
    "model_premium = LinearRegression()\n",
    "model_premium.fit(X_train_sampled_small_imputed, y_train_premium_sampled)\n",
    "y_pred_premium = model_premium.predict(X_test_small_imputed)\n",
    "mse_premium = mean_squared_error(y_test_premium, y_pred_premium)\n",
    "r2_premium = r2_score(y_test_premium, y_pred_premium)\n",
    "mae_premium = mean_absolute_error(y_test_premium, y_pred_premium)\n",
    "print(\"Linear Regression - Mean Squared Error for TotalPremium:\", mse_premium)\n",
    "print(\"Linear Regression - R-squared for TotalPremium:\", r2_premium)\n",
    "print(\"Linear Regression - Mean Absolute Error for TotalPremium:\", mae_premium)\n",
    "\n",
    "# Train and Predict with Random Forest Model\n",
    "forest_premium = RandomForestRegressor(random_state=42)\n",
    "forest_premium.fit(X_train_sampled_small_imputed, y_train_premium_sampled)\n",
    "y_pred_forest_premium = forest_premium.predict(X_test_small_imputed)\n",
    "mse_forest_premium = mean_squared_error(y_test_premium, y_pred_forest_premium)\n",
    "r2_forest_premium = r2_score(y_test_premium, y_pred_forest_premium)\n",
    "mae_forest_premium = mean_absolute_error(y_test_premium, y_pred_forest_premium)\n",
    "print(\"Random Forest - Mean Squared Error for TotalPremium:\", mse_forest_premium)\n",
    "print(\"Random Forest - R-squared for TotalPremium:\", r2_forest_premium)\n",
    "print(\"Random Forest - Mean Absolute Error for TotalPremium:\", mae_forest_premium)\n",
    "\n",
    "# Train and Predict with XGBoost Model\n",
    "xgb_premium = xgb.XGBRegressor(random_state=42)\n",
    "xgb_premium.fit(X_train_sampled_small_imputed, y_train_premium_sampled)\n",
    "y_pred_xgb_premium = xgb_premium.predict(X_test_small_imputed)\n",
    "mse_xgb_premium = mean_squared_error(y_test_premium, y_pred_xgb_premium)\n",
    "r2_xgb_premium = r2_score(y_test_premium, y_pred_xgb_premium)\n",
    "mae_xgb_premium = mean_absolute_error(y_test_premium, y_pred_xgb_premium)\n",
    "print(\"XGBoost - Mean Squared Error for TotalPremium:\", mse_xgb_premium)\n",
    "print(\"XGBoost - R-squared for TotalPremium:\", r2_xgb_premium)\n",
    "print(\"XGBoost - Mean Absolute Error for TotalPremium:\", mae_xgb_premium)"
   ]
  },
  {
   "cell_type": "code",
   "execution_count": 5,
   "metadata": {},
   "outputs": [
    {
     "data": {
      "image/png": "[encoded data removed]",
      "text/plain": [
       "<Figure size 800x270 with 2 Axes>"
      ]
     },
     "metadata": {},
     "output_type": "display_data"
    },
    {
     "data": {
      "image/png": "[encoded data removed]",
      "text/plain": [
       "<Figure size 800x270 with 2 Axes>"
      ]
     },
     "metadata": {},
     "output_type": "display_data"
    }
   ],
   "source": [
    "import shap\n",
    "\n",
    "# SHAP values for Random Forest\n",
    "explainer_rf = shap.TreeExplainer(forest_premium)\n",
    "shap_values_rf = explainer_rf.shap_values(X_test_small_imputed)\n",
    "shap.summary_plot(shap_values_rf, X_test_small_imputed, feature_names=selected_features)\n",
    "\n",
    "# SHAP values for XGBoost\n",
    "explainer_xgb = shap.TreeExplainer(xgb_premium)\n",
    "shap_values_xgb = explainer_xgb.shap_values(X_test_small_imputed)\n",
    "shap.summary_plot(shap_values_xgb, X_test_small_imputed, feature_names=selected_features)"
   ]
  }
 ],
 "metadata": {
  "kernelspec": {
   "display_name": ".ebcli-virtual-env",
   "language": "python",
   "name": "python3"
  },
  "language_info": {
   "codemirror_mode": {
    "name": "ipython",
    "version": 3
   },
   "file_extension": ".py",
   "mimetype": "text/x-python",
   "name": "python",
   "nbconvert_exporter": "python",
   "pygments_lexer": "ipython3",
   "version": "3.11.9"
  }
 },
 "nbformat": 4,
 "nbformat_minor": 2
}
