{
 "cells": [
  {
   "cell_type": "code",
   "execution_count": 3,
   "metadata": {},
   "outputs": [
    {
     "name": "stderr",
     "output_type": "stream",
     "text": [
      "C:\\Users\\Robel\\AppData\\Local\\Temp\\ipykernel_12676\\2494635918.py:8: DtypeWarning: Columns (32,37) have mixed types. Specify dtype option on import or set low_memory=False.\n",
      "  df = pd.read_csv(file_path, delimiter='|')\n"
     ]
    }
   ],
   "source": [
    "import pandas as pd\n",
    "from scipy import stats\n",
    "\n",
    "# Path to the .txt file\n",
    "file_path = 'D:/week3 data/MachineLearningRating_v3.txt'\n",
    "\n",
    "# Load the data into a DataFrame with pipe delimiter\n",
    "df = pd.read_csv(file_path, delimiter='|')\n"
   ]
  },
  {
   "cell_type": "code",
   "execution_count": 15,
   "metadata": {},
   "outputs": [
    {
     "name": "stdout",
     "output_type": "stream",
     "text": [
      "H_1 Hypothesis test result for provinces: F_onewayResult(statistic=5.8494137624076075, pvalue=1.6782057588675903e-07)\n",
      "H_2 Hypothesis test result for zip codes: F_onewayResult(statistic=0.9419762214391849, pvalue=0.8906511279164051)\n",
      "H_3 Hypothesis test result for TotalPremium across zip codes: F_onewayResult(statistic=10.81111575835253, pvalue=0.0)\n",
      "H_4 T-test result for gender: TtestResult(statistic=0.24803623812388725, pvalue=0.8041073961270343, df=49570.0)\n"
     ]
    }
   ],
   "source": [
    "# Hypothesis Testing for Risk Differences Across Provinces (H_1) using TotalClaims\n",
    "anova_provinces = stats.f_oneway(*(df[df['Province'] == province]['TotalClaims'] for province in df['Province'].unique())) \n",
    "print(\"H_1 Hypothesis test result for provinces:\", anova_provinces)\n",
    "\n",
    "# Hypothesis Testing for Risk Differences Between Zip Codes (H_2) using TotalClaims\n",
    "anova_zipcodes = stats.f_oneway(*(df[df['PostalCode'] == zipcode]['TotalClaims'] for zipcode in df['PostalCode'].unique()))\n",
    "print(\"H_2 Hypothesis test result for zip codes:\", anova_zipcodes)\n",
    "\n",
    "# Hypothesis Testing for Margin Profit Differences Between Zip Codes (H_3) using TotalPremium \n",
    "anova_premium = stats.f_oneway(*(df[df['PostalCode'] == zipcode]['TotalPremium'] for zipcode in df['PostalCode'].unique())) \n",
    "print(\"H_3 Hypothesis test result for TotalPremium across zip codes:\", anova_premium)\n",
    "\n",
    "# Hypothesis Testing for Risk Differences Between Women and Men (H0_4)\n",
    "risk_women = df[df['Gender'] == 'Female']['TotalClaims']\n",
    "risk_men = df[df['Gender'] == 'Male']['TotalClaims']\n",
    "t_test_gender = stats.ttest_ind(risk_women, risk_men)\n",
    "print(\"H_4 T-test result for gender:\", t_test_gender)"
   ]
  },
  {
   "cell_type": "code",
   "execution_count": null,
   "metadata": {},
   "outputs": [
    {
     "name": "stdout",
     "output_type": "stream",
     "text": [
      "Sample size for Group A (Own Damage): 104183\n",
      "Sample size for Group B (Third Party): 102825\n",
      "T-test result for TotalPremium: TtestResult(statistic=117.2976941641513, pvalue=0.0, df=207006.0)\n"
     ]
    }
   ],
   "source": [
    "# Group A: Plans with CoverType 'Own Damage' \n",
    "group_A = df[df['CoverType'] == 'Own Damage']\n",
    "# Group B: Plans with CoverType 'Third Party' \n",
    "group_B = df[df['CoverType'] == 'Third Party'] \n",
    "# Check the sample sizes again \n",
    "print(\"Sample size for Group A (Own Damage):\", len(group_A)) \n",
    "print(\"Sample size for Group B (Third Party):\", len(group_B))\n",
    "\n",
    "# T-test for TotalPremium\n",
    "t_test_premium = stats.ttest_ind(group_A['TotalPremium'], group_B['TotalPremium'])\n",
    "print(\"T-test result for TotalPremium:\", t_test_premium)\n",
    "\n",
    "# Chi-squared test for Gender\n",
    "contingency_table_gender = pd.crosstab(df['Gender'], df['CoverType'])\n",
    "chi2_test_gender = stats.chi2_contingency(contingency_table_gender)\n",
    "print(\"Chi-squared test result for Gender:\", chi2_test_gender)\n"
   ]
  }
 ],
 "metadata": {
  "kernelspec": {
   "display_name": ".ebcli-virtual-env",
   "language": "python",
   "name": "python3"
  },
  "language_info": {
   "codemirror_mode": {
    "name": "ipython",
    "version": 3
   },
   "file_extension": ".py",
   "mimetype": "text/x-python",
   "name": "python",
   "nbconvert_exporter": "python",
   "pygments_lexer": "ipython3",
   "version": "3.11.9"
  }
 },
 "nbformat": 4,
 "nbformat_minor": 2
}
